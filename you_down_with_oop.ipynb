{
 "cells": [
  {
   "cell_type": "code",
   "execution_count": 1,
   "metadata": {
    "collapsed": true
   },
   "outputs": [],
   "source": [
    "#!/usr/bin/env python"
   ]
  },
  {
   "cell_type": "markdown",
   "metadata": {},
   "source": [
    "# Object oriented programming.\n",
    "Python packages use object oriented programming. This is a very brief and introduction used mostly to introduce enough concepts to understand Python programming.\n",
    "## __init__\n",
    "This portion is executed whenever you instantiate an Object by calling Class. It sets defualt values or values that are critical for the operation of the object.\n",
    "## Methods\n",
    "These are called methods in Python parlance but they could also be called functions."
   ]
  },
  {
   "cell_type": "code",
   "execution_count": 2,
   "metadata": {
    "collapsed": false
   },
   "outputs": [],
   "source": [
    "\n",
    "class Bear:\n",
    "\n",
    "    def __init__(self):\n",
    "        self.fur = 'You have not set fur color'\n",
    "        self.walks = 'You have not set two or four-legged locomotion.'\n",
    "        self.home = 'You have not set a place to live.'\n",
    "        \n",
    "    def set_fur(self, color):\n",
    "        self.fur = color\n",
    "        \n",
    "    def set_walks(self, walk):\n",
    "        self.walks = walk\n",
    "        \n",
    "    def set_home(self, home):\n",
    "        self.home = home\n",
    "        \n",
    "    def roar(self):\n",
    "        print('ROAR!!')\n",
    "        \n",
    "    def eat(self):\n",
    "        print('Nom nom.')\n",
    "        "
   ]
  },
  {
   "cell_type": "code",
   "execution_count": 12,
   "metadata": {
    "collapsed": false
   },
   "outputs": [
    {
     "name": "stdout",
     "output_type": "stream",
     "text": [
      "Brown\n",
      "ROAR!!\n"
     ]
    }
   ],
   "source": [
    "yogi = Bear()\n",
    "yogi.fur\n",
    "yogi.fur = \"Brown\"\n",
    "print(yogi.fur)\n",
    "yogi.roar()"
   ]
  },
  {
   "cell_type": "code",
   "execution_count": 3,
   "metadata": {
    "collapsed": true
   },
   "outputs": [],
   "source": [
    "yogi = Bear()"
   ]
  },
  {
   "cell_type": "code",
   "execution_count": 5,
   "metadata": {
    "collapsed": false
   },
   "outputs": [
    {
     "data": {
      "text/plain": [
       "'You have not set fur color'"
      ]
     },
     "execution_count": 5,
     "metadata": {},
     "output_type": "execute_result"
    }
   ],
   "source": [
    "yogi.fur"
   ]
  },
  {
   "cell_type": "code",
   "execution_count": 6,
   "metadata": {
    "collapsed": false
   },
   "outputs": [],
   "source": [
    "yogi.fur = \"brown\""
   ]
  },
  {
   "cell_type": "code",
   "execution_count": 7,
   "metadata": {
    "collapsed": false
   },
   "outputs": [
    {
     "data": {
      "text/plain": [
       "'brown'"
      ]
     },
     "execution_count": 7,
     "metadata": {},
     "output_type": "execute_result"
    }
   ],
   "source": [
    "yogi.fur"
   ]
  },
  {
   "cell_type": "code",
   "execution_count": null,
   "metadata": {
    "collapsed": true
   },
   "outputs": [],
   "source": []
  }
 ],
 "metadata": {
  "anaconda-cloud": {},
  "kernelspec": {
   "display_name": "Python [conda root]",
   "language": "python",
   "name": "conda-root-py"
  },
  "language_info": {
   "codemirror_mode": {
    "name": "ipython",
    "version": 3
   },
   "file_extension": ".py",
   "mimetype": "text/x-python",
   "name": "python",
   "nbconvert_exporter": "python",
   "pygments_lexer": "ipython3",
   "version": "3.5.2"
  }
 },
 "nbformat": 4,
 "nbformat_minor": 1
}
