{
 "cells": [
  {
   "cell_type": "code",
   "execution_count": 1,
   "metadata": {
    "collapsed": true
   },
   "outputs": [],
   "source": [
    "#!/usr/bin/env python\n",
    "\n",
    "import numba as nb\n",
    "import numpy as np\n",
    "import f_routines as fr"
   ]
  },
  {
   "cell_type": "code",
   "execution_count": 2,
   "metadata": {
    "collapsed": true
   },
   "outputs": [],
   "source": [
    "def fib(n):\n",
    "    first = 0\n",
    "    next_val = 1\n",
    "    seq = []\n",
    "    \n",
    "    for i in range(n):\n",
    "\n",
    "        if i<= 1:\n",
    "            next_val = i\n",
    "        else:\n",
    "            x = first + next_val\n",
    "            first = next_val\n",
    "            next_val = x\n",
    "            \n",
    "        seq.append(next_val)\n",
    "        \n",
    "    return seq"
   ]
  },
  {
   "cell_type": "code",
   "execution_count": 3,
   "metadata": {
    "collapsed": false
   },
   "outputs": [],
   "source": [
    "#@nb.jit(nopython=True)\n",
    "\n",
    "@nb.jit(nb.int32[:](nb.int32[:]))\n",
    "def nb_fib(n):\n",
    "    first = 0\n",
    "    next_val = 1\n",
    "    seq = np.zeros(n)\n",
    "    \n",
    "    for i in range(n):\n",
    "        \n",
    "        if i<= 1:\n",
    "            next_val = i\n",
    "        else:\n",
    "            x = first + next_val\n",
    "            first = next_val\n",
    "            next_val = x\n",
    "            \n",
    "        #seq.append(next_val)\n",
    "        seq[i] = next_val\n",
    "        \n",
    "    return seq"
   ]
  },
  {
   "cell_type": "code",
   "execution_count": 4,
   "metadata": {
    "collapsed": false
   },
   "outputs": [
    {
     "name": "stdout",
     "output_type": "stream",
     "text": [
      "100 loops, best of 3: 3.63 ms per loop\n"
     ]
    }
   ],
   "source": [
    "%timeit x = fib(10000)"
   ]
  },
  {
   "cell_type": "code",
   "execution_count": 5,
   "metadata": {
    "collapsed": false
   },
   "outputs": [
    {
     "name": "stdout",
     "output_type": "stream",
     "text": [
      "The slowest run took 2358.12 times longer than the fastest. This could mean that an intermediate result is being cached.\n",
      "10000 loops, best of 3: 25.3 µs per loop\n"
     ]
    }
   ],
   "source": [
    "%timeit x = nb_fib(10000)"
   ]
  },
  {
   "cell_type": "code",
   "execution_count": 6,
   "metadata": {
    "collapsed": false
   },
   "outputs": [
    {
     "name": "stdout",
     "output_type": "stream",
     "text": [
      "The slowest run took 89.39 times longer than the fastest. This could mean that an intermediate result is being cached.\n",
      "10000000 loops, best of 3: 140 ns per loop\n"
     ]
    }
   ],
   "source": [
    "%timeit x = fr.fib_f(10000)"
   ]
  },
  {
   "cell_type": "code",
   "execution_count": null,
   "metadata": {
    "collapsed": true
   },
   "outputs": [],
   "source": []
  }
 ],
 "metadata": {
  "anaconda-cloud": {},
  "kernelspec": {
   "display_name": "Python [conda root]",
   "language": "python",
   "name": "conda-root-py"
  },
  "language_info": {
   "codemirror_mode": {
    "name": "ipython",
    "version": 3
   },
   "file_extension": ".py",
   "mimetype": "text/x-python",
   "name": "python",
   "nbconvert_exporter": "python",
   "pygments_lexer": "ipython3",
   "version": "3.5.2"
  }
 },
 "nbformat": 4,
 "nbformat_minor": 1
}
